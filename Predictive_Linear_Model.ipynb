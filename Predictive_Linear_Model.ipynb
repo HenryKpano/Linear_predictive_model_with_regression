{
 "cells": [
  {
   "cell_type": "code",
   "execution_count": 1,
   "id": "familiar-brooks",
   "metadata": {},
   "outputs": [],
   "source": [
    "import pandas as pd\n",
    "import numpy as np\n",
    "import matplotlib.pyplot as plt\n",
    "%matplotlib inline"
   ]
  },
  {
   "cell_type": "code",
   "execution_count": 2,
   "id": "accepted-declaration",
   "metadata": {},
   "outputs": [],
   "source": [
    "dataset = pd.read_csv(\"/Users/henry/Documents/Jupyter_files/Python/farmer_investment_yield_data.csv\")"
   ]
  },
  {
   "cell_type": "code",
   "execution_count": 3,
   "id": "republican-matthew",
   "metadata": {},
   "outputs": [
    {
     "data": {
      "text/plain": [
       "(9995, 6)"
      ]
     },
     "execution_count": 3,
     "metadata": {},
     "output_type": "execute_result"
    }
   ],
   "source": [
    "dataset.shape"
   ]
  },
  {
   "cell_type": "code",
   "execution_count": 4,
   "id": "norman-advancement",
   "metadata": {},
   "outputs": [
    {
     "data": {
      "text/html": [
       "<div>\n",
       "<style scoped>\n",
       "    .dataframe tbody tr th:only-of-type {\n",
       "        vertical-align: middle;\n",
       "    }\n",
       "\n",
       "    .dataframe tbody tr th {\n",
       "        vertical-align: top;\n",
       "    }\n",
       "\n",
       "    .dataframe thead th {\n",
       "        text-align: right;\n",
       "    }\n",
       "</style>\n",
       "<table border=\"1\" class=\"dataframe\">\n",
       "  <thead>\n",
       "    <tr style=\"text-align: right;\">\n",
       "      <th></th>\n",
       "      <th>Investment</th>\n",
       "    </tr>\n",
       "  </thead>\n",
       "  <tbody>\n",
       "    <tr>\n",
       "      <th>count</th>\n",
       "      <td>9995.000000</td>\n",
       "    </tr>\n",
       "    <tr>\n",
       "      <th>mean</th>\n",
       "      <td>3860.132966</td>\n",
       "    </tr>\n",
       "    <tr>\n",
       "      <th>std</th>\n",
       "      <td>2013.965425</td>\n",
       "    </tr>\n",
       "    <tr>\n",
       "      <th>min</th>\n",
       "      <td>800.000000</td>\n",
       "    </tr>\n",
       "    <tr>\n",
       "      <th>25%</th>\n",
       "      <td>1872.500000</td>\n",
       "    </tr>\n",
       "    <tr>\n",
       "      <th>50%</th>\n",
       "      <td>3750.000000</td>\n",
       "    </tr>\n",
       "    <tr>\n",
       "      <th>75%</th>\n",
       "      <td>5632.500000</td>\n",
       "    </tr>\n",
       "    <tr>\n",
       "      <th>max</th>\n",
       "      <td>7499.000000</td>\n",
       "    </tr>\n",
       "  </tbody>\n",
       "</table>\n",
       "</div>"
      ],
      "text/plain": [
       "        Investment\n",
       "count  9995.000000\n",
       "mean   3860.132966\n",
       "std    2013.965425\n",
       "min     800.000000\n",
       "25%    1872.500000\n",
       "50%    3750.000000\n",
       "75%    5632.500000\n",
       "max    7499.000000"
      ]
     },
     "execution_count": 4,
     "metadata": {},
     "output_type": "execute_result"
    }
   ],
   "source": [
    "dataset.describe()"
   ]
  },
  {
   "cell_type": "code",
   "execution_count": 5,
   "id": "obvious-omega",
   "metadata": {},
   "outputs": [
    {
     "data": {
      "text/html": [
       "<div>\n",
       "<style scoped>\n",
       "    .dataframe tbody tr th:only-of-type {\n",
       "        vertical-align: middle;\n",
       "    }\n",
       "\n",
       "    .dataframe tbody tr th {\n",
       "        vertical-align: top;\n",
       "    }\n",
       "\n",
       "    .dataframe thead th {\n",
       "        text-align: right;\n",
       "    }\n",
       "</style>\n",
       "<table border=\"1\" class=\"dataframe\">\n",
       "  <thead>\n",
       "    <tr style=\"text-align: right;\">\n",
       "      <th></th>\n",
       "      <th>Name</th>\n",
       "      <th>Age</th>\n",
       "      <th>Region</th>\n",
       "      <th>Gender</th>\n",
       "      <th>Investment</th>\n",
       "      <th>Yield</th>\n",
       "    </tr>\n",
       "  </thead>\n",
       "  <tbody>\n",
       "    <tr>\n",
       "      <th>0</th>\n",
       "      <td>Ethyl</td>\n",
       "      <td>21</td>\n",
       "      <td>Western Region</td>\n",
       "      <td>Male</td>\n",
       "      <td>6855</td>\n",
       "      <td>3.8</td>\n",
       "    </tr>\n",
       "    <tr>\n",
       "      <th>1</th>\n",
       "      <td>Shelli</td>\n",
       "      <td>23</td>\n",
       "      <td>Northern Region</td>\n",
       "      <td>Female</td>\n",
       "      <td>7217</td>\n",
       "      <td>4</td>\n",
       "    </tr>\n",
       "    <tr>\n",
       "      <th>2</th>\n",
       "      <td>Rona</td>\n",
       "      <td>23</td>\n",
       "      <td>Upper East Region</td>\n",
       "      <td>Female</td>\n",
       "      <td>3342</td>\n",
       "      <td>2.3</td>\n",
       "    </tr>\n",
       "    <tr>\n",
       "      <th>3</th>\n",
       "      <td>Doro</td>\n",
       "      <td>25</td>\n",
       "      <td>Northern Region</td>\n",
       "      <td>Male</td>\n",
       "      <td>3318</td>\n",
       "      <td>2.3</td>\n",
       "    </tr>\n",
       "    <tr>\n",
       "      <th>4</th>\n",
       "      <td>Ronda</td>\n",
       "      <td>23</td>\n",
       "      <td>Upper West</td>\n",
       "      <td>Male</td>\n",
       "      <td>2154</td>\n",
       "      <td>2</td>\n",
       "    </tr>\n",
       "  </tbody>\n",
       "</table>\n",
       "</div>"
      ],
      "text/plain": [
       "     Name Age             Region  Gender  Investment Yield\n",
       "0   Ethyl  21     Western Region    Male        6855   3.8\n",
       "1  Shelli  23    Northern Region  Female        7217     4\n",
       "2    Rona  23  Upper East Region  Female        3342   2.3\n",
       "3    Doro  25    Northern Region    Male        3318   2.3\n",
       "4   Ronda  23         Upper West    Male        2154     2"
      ]
     },
     "execution_count": 5,
     "metadata": {},
     "output_type": "execute_result"
    }
   ],
   "source": [
    "dataset.head()"
   ]
  },
  {
   "cell_type": "code",
   "execution_count": 6,
   "id": "italic-increase",
   "metadata": {},
   "outputs": [
    {
     "name": "stdout",
     "output_type": "stream",
     "text": [
      "<class 'pandas.core.frame.DataFrame'>\n",
      "RangeIndex: 9995 entries, 0 to 9994\n",
      "Data columns (total 6 columns):\n",
      " #   Column      Non-Null Count  Dtype \n",
      "---  ------      --------------  ----- \n",
      " 0   Name        9995 non-null   object\n",
      " 1   Age         9992 non-null   object\n",
      " 2   Region      9993 non-null   object\n",
      " 3   Gender      9989 non-null   object\n",
      " 4   Investment  9995 non-null   int64 \n",
      " 5   Yield       9993 non-null   object\n",
      "dtypes: int64(1), object(5)\n",
      "memory usage: 468.6+ KB\n"
     ]
    }
   ],
   "source": [
    "dataset.info()"
   ]
  },
  {
   "cell_type": "code",
   "execution_count": 7,
   "id": "designed-newman",
   "metadata": {},
   "outputs": [],
   "source": [
    "from sklearn.preprocessing import LabelEncoder"
   ]
  },
  {
   "cell_type": "code",
   "execution_count": 14,
   "id": "expected-option",
   "metadata": {},
   "outputs": [
    {
     "name": "stdout",
     "output_type": "stream",
     "text": [
      "<class 'pandas.core.frame.DataFrame'>\n",
      "RangeIndex: 9995 entries, 0 to 9994\n",
      "Data columns (total 6 columns):\n",
      " #   Column      Non-Null Count  Dtype  \n",
      "---  ------      --------------  -----  \n",
      " 0   Name        9995 non-null   object \n",
      " 1   Age         9995 non-null   int64  \n",
      " 2   Region      9995 non-null   object \n",
      " 3   Gender      9995 non-null   object \n",
      " 4   Investment  9995 non-null   int64  \n",
      " 5   Yield       9995 non-null   float64\n",
      "dtypes: float64(1), int64(2), object(3)\n",
      "memory usage: 468.6+ KB\n"
     ]
    }
   ],
   "source": [
    "dataset = dataset.fillna(0)\n",
    "dataset.Age=pd.to_numeric(dataset.Age, errors='coerce').astype(int)\n",
    "dataset.Yield=pd.to_numeric(dataset.Yield, errors='coerce').astype(float)\n",
    "dataset.info()"
   ]
  },
  {
   "cell_type": "code",
   "execution_count": 15,
   "id": "indie-representative",
   "metadata": {},
   "outputs": [
    {
     "data": {
      "text/html": [
       "<div>\n",
       "<style scoped>\n",
       "    .dataframe tbody tr th:only-of-type {\n",
       "        vertical-align: middle;\n",
       "    }\n",
       "\n",
       "    .dataframe tbody tr th {\n",
       "        vertical-align: top;\n",
       "    }\n",
       "\n",
       "    .dataframe thead th {\n",
       "        text-align: right;\n",
       "    }\n",
       "</style>\n",
       "<table border=\"1\" class=\"dataframe\">\n",
       "  <thead>\n",
       "    <tr style=\"text-align: right;\">\n",
       "      <th></th>\n",
       "      <th>Name</th>\n",
       "      <th>Age</th>\n",
       "      <th>Region</th>\n",
       "      <th>Gender</th>\n",
       "      <th>Investment</th>\n",
       "      <th>Yield</th>\n",
       "    </tr>\n",
       "  </thead>\n",
       "  <tbody>\n",
       "    <tr>\n",
       "      <th>0</th>\n",
       "      <td>Ethyl</td>\n",
       "      <td>21</td>\n",
       "      <td>Western Region</td>\n",
       "      <td>Male</td>\n",
       "      <td>6855</td>\n",
       "      <td>3.8</td>\n",
       "    </tr>\n",
       "    <tr>\n",
       "      <th>1</th>\n",
       "      <td>Shelli</td>\n",
       "      <td>23</td>\n",
       "      <td>Northern Region</td>\n",
       "      <td>Female</td>\n",
       "      <td>7217</td>\n",
       "      <td>4.0</td>\n",
       "    </tr>\n",
       "    <tr>\n",
       "      <th>2</th>\n",
       "      <td>Rona</td>\n",
       "      <td>23</td>\n",
       "      <td>Upper East Region</td>\n",
       "      <td>Female</td>\n",
       "      <td>3342</td>\n",
       "      <td>2.3</td>\n",
       "    </tr>\n",
       "    <tr>\n",
       "      <th>3</th>\n",
       "      <td>Doro</td>\n",
       "      <td>25</td>\n",
       "      <td>Northern Region</td>\n",
       "      <td>Male</td>\n",
       "      <td>3318</td>\n",
       "      <td>2.3</td>\n",
       "    </tr>\n",
       "    <tr>\n",
       "      <th>4</th>\n",
       "      <td>Ronda</td>\n",
       "      <td>23</td>\n",
       "      <td>Upper West</td>\n",
       "      <td>Male</td>\n",
       "      <td>2154</td>\n",
       "      <td>2.0</td>\n",
       "    </tr>\n",
       "  </tbody>\n",
       "</table>\n",
       "</div>"
      ],
      "text/plain": [
       "     Name  Age             Region  Gender  Investment  Yield\n",
       "0   Ethyl   21     Western Region    Male        6855    3.8\n",
       "1  Shelli   23    Northern Region  Female        7217    4.0\n",
       "2    Rona   23  Upper East Region  Female        3342    2.3\n",
       "3    Doro   25    Northern Region    Male        3318    2.3\n",
       "4   Ronda   23         Upper West    Male        2154    2.0"
      ]
     },
     "execution_count": 15,
     "metadata": {},
     "output_type": "execute_result"
    }
   ],
   "source": [
    "dataset.head()"
   ]
  },
  {
   "cell_type": "code",
   "execution_count": 16,
   "id": "danish-container",
   "metadata": {},
   "outputs": [
    {
     "data": {
      "text/html": [
       "<div>\n",
       "<style scoped>\n",
       "    .dataframe tbody tr th:only-of-type {\n",
       "        vertical-align: middle;\n",
       "    }\n",
       "\n",
       "    .dataframe tbody tr th {\n",
       "        vertical-align: top;\n",
       "    }\n",
       "\n",
       "    .dataframe thead th {\n",
       "        text-align: right;\n",
       "    }\n",
       "</style>\n",
       "<table border=\"1\" class=\"dataframe\">\n",
       "  <thead>\n",
       "    <tr style=\"text-align: right;\">\n",
       "      <th></th>\n",
       "      <th>Age</th>\n",
       "      <th>Investment</th>\n",
       "      <th>Yield</th>\n",
       "    </tr>\n",
       "  </thead>\n",
       "  <tbody>\n",
       "    <tr>\n",
       "      <th>count</th>\n",
       "      <td>9995.000000</td>\n",
       "      <td>9995.000000</td>\n",
       "      <td>9995.000000</td>\n",
       "    </tr>\n",
       "    <tr>\n",
       "      <th>mean</th>\n",
       "      <td>21.608204</td>\n",
       "      <td>3860.132966</td>\n",
       "      <td>2.653857</td>\n",
       "    </tr>\n",
       "    <tr>\n",
       "      <th>std</th>\n",
       "      <td>93.766899</td>\n",
       "      <td>2013.965425</td>\n",
       "      <td>0.742867</td>\n",
       "    </tr>\n",
       "    <tr>\n",
       "      <th>min</th>\n",
       "      <td>0.000000</td>\n",
       "      <td>800.000000</td>\n",
       "      <td>0.000000</td>\n",
       "    </tr>\n",
       "    <tr>\n",
       "      <th>25%</th>\n",
       "      <td>17.000000</td>\n",
       "      <td>1872.500000</td>\n",
       "      <td>1.900000</td>\n",
       "    </tr>\n",
       "    <tr>\n",
       "      <th>50%</th>\n",
       "      <td>20.000000</td>\n",
       "      <td>3750.000000</td>\n",
       "      <td>2.500000</td>\n",
       "    </tr>\n",
       "    <tr>\n",
       "      <th>75%</th>\n",
       "      <td>23.000000</td>\n",
       "      <td>5632.500000</td>\n",
       "      <td>3.300000</td>\n",
       "    </tr>\n",
       "    <tr>\n",
       "      <th>max</th>\n",
       "      <td>6370.000000</td>\n",
       "      <td>7499.000000</td>\n",
       "      <td>5.000000</td>\n",
       "    </tr>\n",
       "  </tbody>\n",
       "</table>\n",
       "</div>"
      ],
      "text/plain": [
       "               Age   Investment        Yield\n",
       "count  9995.000000  9995.000000  9995.000000\n",
       "mean     21.608204  3860.132966     2.653857\n",
       "std      93.766899  2013.965425     0.742867\n",
       "min       0.000000   800.000000     0.000000\n",
       "25%      17.000000  1872.500000     1.900000\n",
       "50%      20.000000  3750.000000     2.500000\n",
       "75%      23.000000  5632.500000     3.300000\n",
       "max    6370.000000  7499.000000     5.000000"
      ]
     },
     "execution_count": 16,
     "metadata": {},
     "output_type": "execute_result"
    }
   ],
   "source": [
    "dataset.describe()"
   ]
  },
  {
   "cell_type": "code",
   "execution_count": 17,
   "id": "compliant-structure",
   "metadata": {},
   "outputs": [
    {
     "data": {
      "text/html": [
       "<div>\n",
       "<style scoped>\n",
       "    .dataframe tbody tr th:only-of-type {\n",
       "        vertical-align: middle;\n",
       "    }\n",
       "\n",
       "    .dataframe tbody tr th {\n",
       "        vertical-align: top;\n",
       "    }\n",
       "\n",
       "    .dataframe thead th {\n",
       "        text-align: right;\n",
       "    }\n",
       "</style>\n",
       "<table border=\"1\" class=\"dataframe\">\n",
       "  <thead>\n",
       "    <tr style=\"text-align: right;\">\n",
       "      <th></th>\n",
       "      <th>Name</th>\n",
       "      <th>Age</th>\n",
       "      <th>Region</th>\n",
       "      <th>Gender</th>\n",
       "      <th>Investment</th>\n",
       "      <th>Yield</th>\n",
       "    </tr>\n",
       "  </thead>\n",
       "  <tbody>\n",
       "    <tr>\n",
       "      <th>0</th>\n",
       "      <td>Ethyl</td>\n",
       "      <td>21</td>\n",
       "      <td>Western Region</td>\n",
       "      <td>Male</td>\n",
       "      <td>6855</td>\n",
       "      <td>3.8</td>\n",
       "    </tr>\n",
       "    <tr>\n",
       "      <th>1</th>\n",
       "      <td>Shelli</td>\n",
       "      <td>23</td>\n",
       "      <td>Northern Region</td>\n",
       "      <td>Female</td>\n",
       "      <td>7217</td>\n",
       "      <td>4.0</td>\n",
       "    </tr>\n",
       "    <tr>\n",
       "      <th>2</th>\n",
       "      <td>Rona</td>\n",
       "      <td>23</td>\n",
       "      <td>Upper East Region</td>\n",
       "      <td>Female</td>\n",
       "      <td>3342</td>\n",
       "      <td>2.3</td>\n",
       "    </tr>\n",
       "    <tr>\n",
       "      <th>3</th>\n",
       "      <td>Doro</td>\n",
       "      <td>25</td>\n",
       "      <td>Northern Region</td>\n",
       "      <td>Male</td>\n",
       "      <td>3318</td>\n",
       "      <td>2.3</td>\n",
       "    </tr>\n",
       "    <tr>\n",
       "      <th>4</th>\n",
       "      <td>Ronda</td>\n",
       "      <td>23</td>\n",
       "      <td>Upper West</td>\n",
       "      <td>Male</td>\n",
       "      <td>2154</td>\n",
       "      <td>2.0</td>\n",
       "    </tr>\n",
       "  </tbody>\n",
       "</table>\n",
       "</div>"
      ],
      "text/plain": [
       "     Name  Age             Region  Gender  Investment  Yield\n",
       "0   Ethyl   21     Western Region    Male        6855    3.8\n",
       "1  Shelli   23    Northern Region  Female        7217    4.0\n",
       "2    Rona   23  Upper East Region  Female        3342    2.3\n",
       "3    Doro   25    Northern Region    Male        3318    2.3\n",
       "4   Ronda   23         Upper West    Male        2154    2.0"
      ]
     },
     "execution_count": 17,
     "metadata": {},
     "output_type": "execute_result"
    }
   ],
   "source": [
    "dataset.head()"
   ]
  },
  {
   "cell_type": "code",
   "execution_count": 18,
   "id": "premium-heating",
   "metadata": {},
   "outputs": [],
   "source": [
    "dataset.drop(dataset[dataset['Age'] > 105].index, inplace = True) "
   ]
  },
  {
   "cell_type": "code",
   "execution_count": 19,
   "id": "amateur-defense",
   "metadata": {},
   "outputs": [
    {
     "name": "stdout",
     "output_type": "stream",
     "text": [
      "<class 'pandas.core.frame.DataFrame'>\n",
      "Int64Index: 9991 entries, 0 to 9994\n",
      "Data columns (total 6 columns):\n",
      " #   Column      Non-Null Count  Dtype  \n",
      "---  ------      --------------  -----  \n",
      " 0   Name        9991 non-null   object \n",
      " 1   Age         9991 non-null   int64  \n",
      " 2   Region      9991 non-null   object \n",
      " 3   Gender      9991 non-null   object \n",
      " 4   Investment  9991 non-null   int64  \n",
      " 5   Yield       9991 non-null   float64\n",
      "dtypes: float64(1), int64(2), object(3)\n",
      "memory usage: 546.4+ KB\n"
     ]
    }
   ],
   "source": [
    "dataset.info()"
   ]
  },
  {
   "cell_type": "code",
   "execution_count": 20,
   "id": "headed-horse",
   "metadata": {},
   "outputs": [
    {
     "data": {
      "image/png": "[encoded data removed]",
      "text/plain": [
       "<Figure size 432x288 with 1 Axes>"
      ]
     },
     "metadata": {
      "needs_background": "light"
     },
     "output_type": "display_data"
    }
   ],
   "source": [
    "dataset.plot(x=\"Yield\", y=\"Age\", style='o')\n",
    "plt.title('Age vs Yield')\n",
    "plt.xlabel('Yield of farmer')\n",
    "plt.ylabel('Age of farmer')\n",
    "plt.show()"
   ]
  },
  {
   "cell_type": "code",
   "execution_count": 21,
   "id": "surface-technique",
   "metadata": {},
   "outputs": [],
   "source": [
    "from sklearn.linear_model import LinearRegression\n",
    "model = LinearRegression(fit_intercept=True)"
   ]
  },
  {
   "cell_type": "code",
   "execution_count": 24,
   "id": "framed-raise",
   "metadata": {},
   "outputs": [
    {
     "name": "stderr",
     "output_type": "stream",
     "text": [
      "<ipython-input-24-32682d41b705>:3: FutureWarning: Support for multi-dimensional indexing (e.g. `obj[:, None]`) is deprecated and will be removed in a future version.  Convert to a numpy array before indexing instead.\n",
      "  model.fit(x[:, np.newaxis], y)\n"
     ]
    },
    {
     "ename": "NameError",
     "evalue": "name 'xfit' is not defined",
     "output_type": "error",
     "traceback": [
      "\u001b[0;31m---------------------------------------------------------------------------\u001b[0m",
      "\u001b[0;31mNameError\u001b[0m                                 Traceback (most recent call last)",
      "\u001b[0;32m<ipython-input-24-32682d41b705>\u001b[0m in \u001b[0;36m<module>\u001b[0;34m\u001b[0m\n\u001b[1;32m      6\u001b[0m \u001b[0mplt\u001b[0m\u001b[0;34m.\u001b[0m\u001b[0mylabel\u001b[0m\u001b[0;34m(\u001b[0m\u001b[0;34m'Age of farmer'\u001b[0m\u001b[0;34m)\u001b[0m\u001b[0;34m\u001b[0m\u001b[0;34m\u001b[0m\u001b[0m\n\u001b[1;32m      7\u001b[0m \u001b[0mplt\u001b[0m\u001b[0;34m.\u001b[0m\u001b[0mscatter\u001b[0m\u001b[0;34m(\u001b[0m\u001b[0mx\u001b[0m\u001b[0;34m,\u001b[0m \u001b[0my\u001b[0m\u001b[0;34m)\u001b[0m\u001b[0;34m\u001b[0m\u001b[0;34m\u001b[0m\u001b[0m\n\u001b[0;32m----> 8\u001b[0;31m \u001b[0mplt\u001b[0m\u001b[0;34m.\u001b[0m\u001b[0mplot\u001b[0m\u001b[0;34m(\u001b[0m\u001b[0mxfit\u001b[0m\u001b[0;34m,\u001b[0m \u001b[0myfit\u001b[0m\u001b[0;34m)\u001b[0m\u001b[0;34m;\u001b[0m\u001b[0;34m\u001b[0m\u001b[0;34m\u001b[0m\u001b[0m\n\u001b[0m",
      "\u001b[0;31mNameError\u001b[0m: name 'xfit' is not defined"
     ]
    },
    {
     "data": {
      "image/png": "[encoded data removed]",
      "text/plain": [
       "<Figure size 432x288 with 1 Axes>"
      ]
     },
     "metadata": {
      "needs_background": "light"
     },
     "output_type": "display_data"
    }
   ],
   "source": [
    "x = dataset.Yield\n",
    "y = dataset.Age\n",
    "model.fit(x[:, np.newaxis], y)\n",
    "plt.title('Age vs Yield')\n",
    "plt.xlabel('Yield of farmer')\n",
    "plt.ylabel('Age of farmer')\n",
    "plt.scatter(x, y)\n",
    "plt.plot(xfit, yfit);"
   ]
  },
  {
   "cell_type": "markdown",
   "id": "variable-discharge",
   "metadata": {},
   "source": [
    "# It can be realised from the above that there is no correlation between age and yield. This means age is not a determinante of the quantity of yield to be made from the investment made by the farmer"
   ]
  },
  {
   "cell_type": "code",
   "execution_count": 26,
   "id": "different-command",
   "metadata": {},
   "outputs": [],
   "source": [
    "x=dataset[[\"Investment\"]]\n",
    "y=dataset[\"Yield\"]\n",
    "from sklearn.model_selection import train_test_split\n",
    "X_train, X_test, y_train, y_test = train_test_split(x, y, test_size=0.9, random_state=0)"
   ]
  },
  {
   "cell_type": "code",
   "execution_count": 27,
   "id": "neither-result",
   "metadata": {},
   "outputs": [
    {
     "data": {
      "text/plain": [
       "LinearRegression()"
      ]
     },
     "execution_count": 27,
     "metadata": {},
     "output_type": "execute_result"
    }
   ],
   "source": [
    "from sklearn.linear_model import LinearRegression\n",
    "regressor = LinearRegression()\n",
    "regressor.fit(X_train, y_train)"
   ]
  },
  {
   "cell_type": "code",
   "execution_count": 28,
   "id": "challenging-rider",
   "metadata": {},
   "outputs": [],
   "source": [
    "y_pred = regressor.predict(X_test)"
   ]
  },
  {
   "cell_type": "code",
   "execution_count": 33,
   "id": "cross-difficulty",
   "metadata": {},
   "outputs": [
    {
     "data": {
      "text/html": [
       "<div>\n",
       "<style scoped>\n",
       "    .dataframe tbody tr th:only-of-type {\n",
       "        vertical-align: middle;\n",
       "    }\n",
       "\n",
       "    .dataframe tbody tr th {\n",
       "        vertical-align: top;\n",
       "    }\n",
       "\n",
       "    .dataframe thead th {\n",
       "        text-align: right;\n",
       "    }\n",
       "</style>\n",
       "<table border=\"1\" class=\"dataframe\">\n",
       "  <thead>\n",
       "    <tr style=\"text-align: right;\">\n",
       "      <th></th>\n",
       "      <th>ActualYield</th>\n",
       "      <th>Predicted Yield</th>\n",
       "    </tr>\n",
       "  </thead>\n",
       "  <tbody>\n",
       "    <tr>\n",
       "      <th>8478</th>\n",
       "      <td>1.8</td>\n",
       "      <td>1.730248</td>\n",
       "    </tr>\n",
       "    <tr>\n",
       "      <th>8861</th>\n",
       "      <td>2.9</td>\n",
       "      <td>2.989345</td>\n",
       "    </tr>\n",
       "    <tr>\n",
       "      <th>9691</th>\n",
       "      <td>4.0</td>\n",
       "      <td>3.925465</td>\n",
       "    </tr>\n",
       "    <tr>\n",
       "      <th>799</th>\n",
       "      <td>2.3</td>\n",
       "      <td>2.482280</td>\n",
       "    </tr>\n",
       "    <tr>\n",
       "      <th>9859</th>\n",
       "      <td>1.9</td>\n",
       "      <td>1.795864</td>\n",
       "    </tr>\n",
       "  </tbody>\n",
       "</table>\n",
       "</div>"
      ],
      "text/plain": [
       "      ActualYield  Predicted Yield\n",
       "8478          1.8         1.730248\n",
       "8861          2.9         2.989345\n",
       "9691          4.0         3.925465\n",
       "799           2.3         2.482280\n",
       "9859          1.9         1.795864"
      ]
     },
     "execution_count": 33,
     "metadata": {},
     "output_type": "execute_result"
    }
   ],
   "source": [
    "dataset = pd.DataFrame({'ActualYield': y_test, 'Predicted Yield': y_pred})\n",
    "dataset.head()"
   ]
  },
  {
   "cell_type": "code",
   "execution_count": 34,
   "id": "unusual-disco",
   "metadata": {},
   "outputs": [
    {
     "name": "stdout",
     "output_type": "stream",
     "text": [
      "      ActualYield  Predicted Yield\n",
      "8478          1.8         1.730248\n",
      "8861          2.9         2.989345\n",
      "9691          4.0         3.925465\n",
      "799           2.3         2.482280\n",
      "9859          1.9         1.795864\n",
      "...           ...              ...\n",
      "5750          1.8         1.627086\n",
      "7458          3.1         3.135158\n",
      "5160          2.8         2.896754\n",
      "9578          2.4         2.590546\n",
      "8181          2.3         2.343393\n",
      "\n",
      "[8992 rows x 2 columns]\n"
     ]
    }
   ],
   "source": [
    "print(dataset)"
   ]
  },
  {
   "cell_type": "code",
   "execution_count": 40,
   "id": "pleasant-enclosure",
   "metadata": {},
   "outputs": [],
   "source": [
    "dataset.to_excel(r'predict.xlsx', index = False, header=True)"
   ]
  },
  {
   "cell_type": "code",
   "execution_count": null,
   "id": "strange-architect",
   "metadata": {},
   "outputs": [],
   "source": []
  }
 ],
 "metadata": {
  "kernelspec": {
   "display_name": "Python 3",
   "language": "python",
   "name": "python3"
  },
  "language_info": {
   "codemirror_mode": {
    "name": "ipython",
    "version": 3
   },
   "file_extension": ".py",
   "mimetype": "text/x-python",
   "name": "python",
   "nbconvert_exporter": "python",
   "pygments_lexer": "ipython3",
   "version": "3.8.2"
  }
 },
 "nbformat": 4,
 "nbformat_minor": 5
}
